{
  "nbformat": 4,
  "nbformat_minor": 0,
  "metadata": {
    "colab": {
      "name": "W4 Post Reach Prediction.ipynb",
      "provenance": []
    },
    "kernelspec": {
      "name": "python3",
      "display_name": "Python 3"
    }
  },
  "cells": [
    {
      "cell_type": "markdown",
      "metadata": {
        "id": "R2Yf_rkwGQSy"
      },
      "source": [
        "# Instagram Post Reach Prediction"
      ]
    },
    {
      "cell_type": "code",
      "metadata": {
        "id": "-c_-4mrb_ISf"
      },
      "source": [
        "import pandas as pd\r\n",
        "from sklearn.linear_model import LinearRegression\r\n",
        "from sklearn.model_selection import train_test_split\r\n",
        "from sklearn.metrics import mean_squared_error \r\n",
        "from sklearn.preprocessing import StandardScaler"
      ],
      "execution_count": 23,
      "outputs": []
    },
    {
      "cell_type": "code",
      "metadata": {
        "colab": {
          "base_uri": "https://localhost:8080/",
          "height": 521
        },
        "id": "IU0osdEhACIE",
        "outputId": "8865eb69-e50c-422c-c04e-17a301e3aa12"
      },
      "source": [
        "df = pd.read_csv('/content/instagram_reach.csv')\r\n",
        "df"
      ],
      "execution_count": 24,
      "outputs": [
        {
          "output_type": "execute_result",
          "data": {
            "text/html": [
              "<div>\n",
              "<style scoped>\n",
              "    .dataframe tbody tr th:only-of-type {\n",
              "        vertical-align: middle;\n",
              "    }\n",
              "\n",
              "    .dataframe tbody tr th {\n",
              "        vertical-align: top;\n",
              "    }\n",
              "\n",
              "    .dataframe thead th {\n",
              "        text-align: right;\n",
              "    }\n",
              "</style>\n",
              "<table border=\"1\" class=\"dataframe\">\n",
              "  <thead>\n",
              "    <tr style=\"text-align: right;\">\n",
              "      <th></th>\n",
              "      <th>Unnamed: 0</th>\n",
              "      <th>S.No</th>\n",
              "      <th>USERNAME</th>\n",
              "      <th>Caption</th>\n",
              "      <th>Followers</th>\n",
              "      <th>Hashtags</th>\n",
              "      <th>Time since posted</th>\n",
              "      <th>Likes</th>\n",
              "    </tr>\n",
              "  </thead>\n",
              "  <tbody>\n",
              "    <tr>\n",
              "      <th>0</th>\n",
              "      <td>0</td>\n",
              "      <td>1</td>\n",
              "      <td>mikequindazzi</td>\n",
              "      <td>Who are #DataScientist and what do they do? &gt;&gt;...</td>\n",
              "      <td>1600</td>\n",
              "      <td>#MachineLearning #AI #DataAnalytics #DataScien...</td>\n",
              "      <td>11 hours</td>\n",
              "      <td>139</td>\n",
              "    </tr>\n",
              "    <tr>\n",
              "      <th>1</th>\n",
              "      <td>1</td>\n",
              "      <td>2</td>\n",
              "      <td>drgorillapaints</td>\n",
              "      <td>We all know where it’s going. We just have to ...</td>\n",
              "      <td>880</td>\n",
              "      <td>#deck .#mac #macintosh#sayhello #apple #steve...</td>\n",
              "      <td>2 hours</td>\n",
              "      <td>23</td>\n",
              "    </tr>\n",
              "    <tr>\n",
              "      <th>2</th>\n",
              "      <td>2</td>\n",
              "      <td>3</td>\n",
              "      <td>aitrading_official</td>\n",
              "      <td>Alexander Barinov: 4 years as CFO in multinati...</td>\n",
              "      <td>255</td>\n",
              "      <td>#whoiswho #aitrading #ai #aitradingteam#instat...</td>\n",
              "      <td>2 hours</td>\n",
              "      <td>25</td>\n",
              "    </tr>\n",
              "    <tr>\n",
              "      <th>3</th>\n",
              "      <td>3</td>\n",
              "      <td>4</td>\n",
              "      <td>opensourcedworkplace</td>\n",
              "      <td>sfad</td>\n",
              "      <td>340</td>\n",
              "      <td>#iot #cre#workplace #CDO #bigdata #technology#...</td>\n",
              "      <td>3 hours</td>\n",
              "      <td>49</td>\n",
              "    </tr>\n",
              "    <tr>\n",
              "      <th>4</th>\n",
              "      <td>4</td>\n",
              "      <td>5</td>\n",
              "      <td>crea.vision</td>\n",
              "      <td>Ever missed a call while your phone was chargi...</td>\n",
              "      <td>304</td>\n",
              "      <td>#instamachinelearning #instabigdata#instamarke...</td>\n",
              "      <td>3 hours</td>\n",
              "      <td>30</td>\n",
              "    </tr>\n",
              "    <tr>\n",
              "      <th>...</th>\n",
              "      <td>...</td>\n",
              "      <td>...</td>\n",
              "      <td>...</td>\n",
              "      <td>...</td>\n",
              "      <td>...</td>\n",
              "      <td>...</td>\n",
              "      <td>...</td>\n",
              "      <td>...</td>\n",
              "    </tr>\n",
              "    <tr>\n",
              "      <th>95</th>\n",
              "      <td>8</td>\n",
              "      <td>19</td>\n",
              "      <td>michaelgarza__</td>\n",
              "      <td>328 S. Wetherly Drive, Beverly Hills, CA 90212...</td>\n",
              "      <td>614</td>\n",
              "      <td>#beverlyhills #realestate#losangelesrealestate...</td>\n",
              "      <td>3 hours</td>\n",
              "      <td>31</td>\n",
              "    </tr>\n",
              "    <tr>\n",
              "      <th>96</th>\n",
              "      <td>9</td>\n",
              "      <td>21</td>\n",
              "      <td>dvlp_search</td>\n",
              "      <td>Credit @tristankappel To find more dvlp follow...</td>\n",
              "      <td>450</td>\n",
              "      <td>#workspace #work #developer#development #devel...</td>\n",
              "      <td>3 hours</td>\n",
              "      <td>42</td>\n",
              "    </tr>\n",
              "    <tr>\n",
              "      <th>97</th>\n",
              "      <td>10</td>\n",
              "      <td>22</td>\n",
              "      <td>ecom.space</td>\n",
              "      <td>We are coming up with the Best 21 Books that w...</td>\n",
              "      <td>182</td>\n",
              "      <td>#books #book #motivation #inspiration #life#bo...</td>\n",
              "      <td>3 hours</td>\n",
              "      <td>10</td>\n",
              "    </tr>\n",
              "    <tr>\n",
              "      <th>98</th>\n",
              "      <td>11</td>\n",
              "      <td>24</td>\n",
              "      <td>lb3enterprises</td>\n",
              "      <td>We’re only paid to move dirt once. It’s not ju...</td>\n",
              "      <td>2039</td>\n",
              "      <td>#heavyequipment #underconstruction#dozer #real...</td>\n",
              "      <td>3 hours</td>\n",
              "      <td>222</td>\n",
              "    </tr>\n",
              "    <tr>\n",
              "      <th>99</th>\n",
              "      <td>12</td>\n",
              "      <td>25</td>\n",
              "      <td>palmariusdev</td>\n",
              "      <td>Obtén tu tienda en línea ahora.</td>\n",
              "      <td>741</td>\n",
              "      <td>#marketing #programming#development #desarroll...</td>\n",
              "      <td>3 hours</td>\n",
              "      <td>109</td>\n",
              "    </tr>\n",
              "  </tbody>\n",
              "</table>\n",
              "<p>100 rows × 8 columns</p>\n",
              "</div>"
            ],
            "text/plain": [
              "    Unnamed: 0  S.No  ... Time since posted Likes\n",
              "0            0     1  ...          11 hours   139\n",
              "1            1     2  ...           2 hours    23\n",
              "2            2     3  ...           2 hours    25\n",
              "3            3     4  ...           3 hours    49\n",
              "4            4     5  ...           3 hours    30\n",
              "..         ...   ...  ...               ...   ...\n",
              "95           8    19  ...           3 hours    31\n",
              "96           9    21  ...           3 hours    42\n",
              "97          10    22  ...           3 hours    10\n",
              "98          11    24  ...           3 hours   222\n",
              "99          12    25  ...           3 hours   109\n",
              "\n",
              "[100 rows x 8 columns]"
            ]
          },
          "metadata": {
            "tags": []
          },
          "execution_count": 24
        }
      ]
    },
    {
      "cell_type": "code",
      "metadata": {
        "colab": {
          "base_uri": "https://localhost:8080/",
          "height": 419
        },
        "id": "ud8jC2SeALoZ",
        "outputId": "dbfbf8e2-df00-446b-bf18-7cdbdf37d065"
      },
      "source": [
        "df = df.drop(['Unnamed: 0','S.No','USERNAME','Caption','Hashtags'],axis=1)\r\n",
        "df"
      ],
      "execution_count": 25,
      "outputs": [
        {
          "output_type": "execute_result",
          "data": {
            "text/html": [
              "<div>\n",
              "<style scoped>\n",
              "    .dataframe tbody tr th:only-of-type {\n",
              "        vertical-align: middle;\n",
              "    }\n",
              "\n",
              "    .dataframe tbody tr th {\n",
              "        vertical-align: top;\n",
              "    }\n",
              "\n",
              "    .dataframe thead th {\n",
              "        text-align: right;\n",
              "    }\n",
              "</style>\n",
              "<table border=\"1\" class=\"dataframe\">\n",
              "  <thead>\n",
              "    <tr style=\"text-align: right;\">\n",
              "      <th></th>\n",
              "      <th>Followers</th>\n",
              "      <th>Time since posted</th>\n",
              "      <th>Likes</th>\n",
              "    </tr>\n",
              "  </thead>\n",
              "  <tbody>\n",
              "    <tr>\n",
              "      <th>0</th>\n",
              "      <td>1600</td>\n",
              "      <td>11 hours</td>\n",
              "      <td>139</td>\n",
              "    </tr>\n",
              "    <tr>\n",
              "      <th>1</th>\n",
              "      <td>880</td>\n",
              "      <td>2 hours</td>\n",
              "      <td>23</td>\n",
              "    </tr>\n",
              "    <tr>\n",
              "      <th>2</th>\n",
              "      <td>255</td>\n",
              "      <td>2 hours</td>\n",
              "      <td>25</td>\n",
              "    </tr>\n",
              "    <tr>\n",
              "      <th>3</th>\n",
              "      <td>340</td>\n",
              "      <td>3 hours</td>\n",
              "      <td>49</td>\n",
              "    </tr>\n",
              "    <tr>\n",
              "      <th>4</th>\n",
              "      <td>304</td>\n",
              "      <td>3 hours</td>\n",
              "      <td>30</td>\n",
              "    </tr>\n",
              "    <tr>\n",
              "      <th>...</th>\n",
              "      <td>...</td>\n",
              "      <td>...</td>\n",
              "      <td>...</td>\n",
              "    </tr>\n",
              "    <tr>\n",
              "      <th>95</th>\n",
              "      <td>614</td>\n",
              "      <td>3 hours</td>\n",
              "      <td>31</td>\n",
              "    </tr>\n",
              "    <tr>\n",
              "      <th>96</th>\n",
              "      <td>450</td>\n",
              "      <td>3 hours</td>\n",
              "      <td>42</td>\n",
              "    </tr>\n",
              "    <tr>\n",
              "      <th>97</th>\n",
              "      <td>182</td>\n",
              "      <td>3 hours</td>\n",
              "      <td>10</td>\n",
              "    </tr>\n",
              "    <tr>\n",
              "      <th>98</th>\n",
              "      <td>2039</td>\n",
              "      <td>3 hours</td>\n",
              "      <td>222</td>\n",
              "    </tr>\n",
              "    <tr>\n",
              "      <th>99</th>\n",
              "      <td>741</td>\n",
              "      <td>3 hours</td>\n",
              "      <td>109</td>\n",
              "    </tr>\n",
              "  </tbody>\n",
              "</table>\n",
              "<p>100 rows × 3 columns</p>\n",
              "</div>"
            ],
            "text/plain": [
              "    Followers Time since posted  Likes\n",
              "0        1600          11 hours    139\n",
              "1         880           2 hours     23\n",
              "2         255           2 hours     25\n",
              "3         340           3 hours     49\n",
              "4         304           3 hours     30\n",
              "..        ...               ...    ...\n",
              "95        614           3 hours     31\n",
              "96        450           3 hours     42\n",
              "97        182           3 hours     10\n",
              "98       2039           3 hours    222\n",
              "99        741           3 hours    109\n",
              "\n",
              "[100 rows x 3 columns]"
            ]
          },
          "metadata": {
            "tags": []
          },
          "execution_count": 25
        }
      ]
    },
    {
      "cell_type": "code",
      "metadata": {
        "colab": {
          "base_uri": "https://localhost:8080/",
          "height": 504
        },
        "id": "Lnz2ziyhAtVA",
        "outputId": "5453a9d2-ea8f-4ae2-ac05-1220d62b2a5b"
      },
      "source": [
        "a = df['Time since posted']\r\n",
        "for i in range(0,len(a)):\r\n",
        "  a[i] = int(a[i].strip('hours'))\r\n",
        "df  "
      ],
      "execution_count": 26,
      "outputs": [
        {
          "output_type": "stream",
          "text": [
            "/usr/local/lib/python3.6/dist-packages/ipykernel_launcher.py:3: SettingWithCopyWarning: \n",
            "A value is trying to be set on a copy of a slice from a DataFrame\n",
            "\n",
            "See the caveats in the documentation: https://pandas.pydata.org/pandas-docs/stable/user_guide/indexing.html#returning-a-view-versus-a-copy\n",
            "  This is separate from the ipykernel package so we can avoid doing imports until\n"
          ],
          "name": "stderr"
        },
        {
          "output_type": "execute_result",
          "data": {
            "text/html": [
              "<div>\n",
              "<style scoped>\n",
              "    .dataframe tbody tr th:only-of-type {\n",
              "        vertical-align: middle;\n",
              "    }\n",
              "\n",
              "    .dataframe tbody tr th {\n",
              "        vertical-align: top;\n",
              "    }\n",
              "\n",
              "    .dataframe thead th {\n",
              "        text-align: right;\n",
              "    }\n",
              "</style>\n",
              "<table border=\"1\" class=\"dataframe\">\n",
              "  <thead>\n",
              "    <tr style=\"text-align: right;\">\n",
              "      <th></th>\n",
              "      <th>Followers</th>\n",
              "      <th>Time since posted</th>\n",
              "      <th>Likes</th>\n",
              "    </tr>\n",
              "  </thead>\n",
              "  <tbody>\n",
              "    <tr>\n",
              "      <th>0</th>\n",
              "      <td>1600</td>\n",
              "      <td>11</td>\n",
              "      <td>139</td>\n",
              "    </tr>\n",
              "    <tr>\n",
              "      <th>1</th>\n",
              "      <td>880</td>\n",
              "      <td>2</td>\n",
              "      <td>23</td>\n",
              "    </tr>\n",
              "    <tr>\n",
              "      <th>2</th>\n",
              "      <td>255</td>\n",
              "      <td>2</td>\n",
              "      <td>25</td>\n",
              "    </tr>\n",
              "    <tr>\n",
              "      <th>3</th>\n",
              "      <td>340</td>\n",
              "      <td>3</td>\n",
              "      <td>49</td>\n",
              "    </tr>\n",
              "    <tr>\n",
              "      <th>4</th>\n",
              "      <td>304</td>\n",
              "      <td>3</td>\n",
              "      <td>30</td>\n",
              "    </tr>\n",
              "    <tr>\n",
              "      <th>...</th>\n",
              "      <td>...</td>\n",
              "      <td>...</td>\n",
              "      <td>...</td>\n",
              "    </tr>\n",
              "    <tr>\n",
              "      <th>95</th>\n",
              "      <td>614</td>\n",
              "      <td>3</td>\n",
              "      <td>31</td>\n",
              "    </tr>\n",
              "    <tr>\n",
              "      <th>96</th>\n",
              "      <td>450</td>\n",
              "      <td>3</td>\n",
              "      <td>42</td>\n",
              "    </tr>\n",
              "    <tr>\n",
              "      <th>97</th>\n",
              "      <td>182</td>\n",
              "      <td>3</td>\n",
              "      <td>10</td>\n",
              "    </tr>\n",
              "    <tr>\n",
              "      <th>98</th>\n",
              "      <td>2039</td>\n",
              "      <td>3</td>\n",
              "      <td>222</td>\n",
              "    </tr>\n",
              "    <tr>\n",
              "      <th>99</th>\n",
              "      <td>741</td>\n",
              "      <td>3</td>\n",
              "      <td>109</td>\n",
              "    </tr>\n",
              "  </tbody>\n",
              "</table>\n",
              "<p>100 rows × 3 columns</p>\n",
              "</div>"
            ],
            "text/plain": [
              "    Followers Time since posted  Likes\n",
              "0        1600                11    139\n",
              "1         880                 2     23\n",
              "2         255                 2     25\n",
              "3         340                 3     49\n",
              "4         304                 3     30\n",
              "..        ...               ...    ...\n",
              "95        614                 3     31\n",
              "96        450                 3     42\n",
              "97        182                 3     10\n",
              "98       2039                 3    222\n",
              "99        741                 3    109\n",
              "\n",
              "[100 rows x 3 columns]"
            ]
          },
          "metadata": {
            "tags": []
          },
          "execution_count": 26
        }
      ]
    },
    {
      "cell_type": "code",
      "metadata": {
        "id": "FJfSDgvEBENR"
      },
      "source": [
        "data = df.values\r\n",
        "X, y = data[:,:-1], data[:,-1]\r\n",
        "X_train, X_test, y_train, y_test = train_test_split(X, y, test_size=0.20, random_state=50)"
      ],
      "execution_count": 27,
      "outputs": []
    },
    {
      "cell_type": "code",
      "metadata": {
        "id": "3vbbG3x8EmGO"
      },
      "source": [
        "scaled_features = StandardScaler().fit_transform(X_train, X_test)"
      ],
      "execution_count": 28,
      "outputs": []
    },
    {
      "cell_type": "code",
      "metadata": {
        "id": "FMwdCKkBDBqw"
      },
      "source": [
        "model = LinearRegression()"
      ],
      "execution_count": 29,
      "outputs": []
    },
    {
      "cell_type": "code",
      "metadata": {
        "colab": {
          "base_uri": "https://localhost:8080/"
        },
        "id": "W8Z677bpDEKi",
        "outputId": "5d000227-631c-43fd-eeda-c8823a5102d3"
      },
      "source": [
        "model.fit(X_train, y_train)"
      ],
      "execution_count": 30,
      "outputs": [
        {
          "output_type": "execute_result",
          "data": {
            "text/plain": [
              "LinearRegression(copy_X=True, fit_intercept=True, n_jobs=None, normalize=False)"
            ]
          },
          "metadata": {
            "tags": []
          },
          "execution_count": 30
        }
      ]
    },
    {
      "cell_type": "code",
      "metadata": {
        "id": "tQVL-fp6DG2G"
      },
      "source": [
        "y_pred = model.predict(X_test)"
      ],
      "execution_count": 31,
      "outputs": []
    },
    {
      "cell_type": "code",
      "metadata": {
        "colab": {
          "base_uri": "https://localhost:8080/"
        },
        "id": "whR7dBHGDiX_",
        "outputId": "2aefc7fa-0e47-453e-e6ee-5c76599c3763"
      },
      "source": [
        "mean_squared_error(y_pred,y_test) "
      ],
      "execution_count": 33,
      "outputs": [
        {
          "output_type": "execute_result",
          "data": {
            "text/plain": [
              "3374.40957754912"
            ]
          },
          "metadata": {
            "tags": []
          },
          "execution_count": 33
        }
      ]
    }
  ]
}